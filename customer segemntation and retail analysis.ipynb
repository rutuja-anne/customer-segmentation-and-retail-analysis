{
 "cells": [
  {
   "cell_type": "code",
   "execution_count": 1,
   "id": "5e6f0d9c",
   "metadata": {},
   "outputs": [],
   "source": [
    "##importing librabries\n",
    "import pandas as pd\n",
    "import numpy as np\n",
    "import matplotlib.pyplot as plt\n",
    "import seaborn as sns"
   ]
  },
  {
   "cell_type": "code",
   "execution_count": 2,
   "id": "c3ed584d",
   "metadata": {},
   "outputs": [
    {
     "name": "stderr",
     "output_type": "stream",
     "text": [
      "C:\\Users\\91876\\AppData\\Local\\Temp\\ipykernel_14456\\418103949.py:2: FutureWarning: The error_bad_lines argument has been deprecated and will be removed in a future version. Use on_bad_lines in the future.\n",
      "\n",
      "\n",
      "  df=pd.read_csv(\"online_retail_10_11.csv\",encoding=\"ISO-8859-1\",error_bad_lines=False)\n"
     ]
    },
    {
     "data": {
      "text/html": [
       "<div>\n",
       "<style scoped>\n",
       "    .dataframe tbody tr th:only-of-type {\n",
       "        vertical-align: middle;\n",
       "    }\n",
       "\n",
       "    .dataframe tbody tr th {\n",
       "        vertical-align: top;\n",
       "    }\n",
       "\n",
       "    .dataframe thead th {\n",
       "        text-align: right;\n",
       "    }\n",
       "</style>\n",
       "<table border=\"1\" class=\"dataframe\">\n",
       "  <thead>\n",
       "    <tr style=\"text-align: right;\">\n",
       "      <th></th>\n",
       "      <th>ï»¿InvoiceNo</th>\n",
       "      <th>StockCode</th>\n",
       "      <th>Description</th>\n",
       "      <th>Quantity</th>\n",
       "      <th>InvoiceDate</th>\n",
       "      <th>UnitPrice</th>\n",
       "      <th>CustomerID</th>\n",
       "      <th>Country</th>\n",
       "    </tr>\n",
       "  </thead>\n",
       "  <tbody>\n",
       "    <tr>\n",
       "      <th>0</th>\n",
       "      <td>536365</td>\n",
       "      <td>85123A</td>\n",
       "      <td>WHITE HANGING HEART T-LIGHT HOLDER</td>\n",
       "      <td>6</td>\n",
       "      <td>12/1/2010 8:26</td>\n",
       "      <td>2.55</td>\n",
       "      <td>17850.0</td>\n",
       "      <td>United Kingdom</td>\n",
       "    </tr>\n",
       "    <tr>\n",
       "      <th>1</th>\n",
       "      <td>536365</td>\n",
       "      <td>71053</td>\n",
       "      <td>WHITE METAL LANTERN</td>\n",
       "      <td>6</td>\n",
       "      <td>12/1/2010 8:26</td>\n",
       "      <td>3.39</td>\n",
       "      <td>17850.0</td>\n",
       "      <td>United Kingdom</td>\n",
       "    </tr>\n",
       "    <tr>\n",
       "      <th>2</th>\n",
       "      <td>536365</td>\n",
       "      <td>84406B</td>\n",
       "      <td>CREAM CUPID HEARTS COAT HANGER</td>\n",
       "      <td>8</td>\n",
       "      <td>12/1/2010 8:26</td>\n",
       "      <td>2.75</td>\n",
       "      <td>17850.0</td>\n",
       "      <td>United Kingdom</td>\n",
       "    </tr>\n",
       "    <tr>\n",
       "      <th>3</th>\n",
       "      <td>536365</td>\n",
       "      <td>84029G</td>\n",
       "      <td>KNITTED UNION FLAG HOT WATER BOTTLE</td>\n",
       "      <td>6</td>\n",
       "      <td>12/1/2010 8:26</td>\n",
       "      <td>3.39</td>\n",
       "      <td>17850.0</td>\n",
       "      <td>United Kingdom</td>\n",
       "    </tr>\n",
       "    <tr>\n",
       "      <th>4</th>\n",
       "      <td>536365</td>\n",
       "      <td>84029E</td>\n",
       "      <td>RED WOOLLY HOTTIE WHITE HEART.</td>\n",
       "      <td>6</td>\n",
       "      <td>12/1/2010 8:26</td>\n",
       "      <td>3.39</td>\n",
       "      <td>17850.0</td>\n",
       "      <td>United Kingdom</td>\n",
       "    </tr>\n",
       "  </tbody>\n",
       "</table>\n",
       "</div>"
      ],
      "text/plain": [
       "  ï»¿InvoiceNo StockCode                          Description  Quantity  \\\n",
       "0       536365    85123A   WHITE HANGING HEART T-LIGHT HOLDER         6   \n",
       "1       536365     71053                  WHITE METAL LANTERN         6   \n",
       "2       536365    84406B       CREAM CUPID HEARTS COAT HANGER         8   \n",
       "3       536365    84029G  KNITTED UNION FLAG HOT WATER BOTTLE         6   \n",
       "4       536365    84029E       RED WOOLLY HOTTIE WHITE HEART.         6   \n",
       "\n",
       "      InvoiceDate  UnitPrice  CustomerID         Country  \n",
       "0  12/1/2010 8:26       2.55     17850.0  United Kingdom  \n",
       "1  12/1/2010 8:26       3.39     17850.0  United Kingdom  \n",
       "2  12/1/2010 8:26       2.75     17850.0  United Kingdom  \n",
       "3  12/1/2010 8:26       3.39     17850.0  United Kingdom  \n",
       "4  12/1/2010 8:26       3.39     17850.0  United Kingdom  "
      ]
     },
     "execution_count": 2,
     "metadata": {},
     "output_type": "execute_result"
    }
   ],
   "source": [
    "##loading dataset and displaying first few rows\n",
    "df=pd.read_csv(\"online_retail_10_11.csv\",encoding=\"ISO-8859-1\",error_bad_lines=False)\n",
    "##display first few rows\n",
    "df.head()"
   ]
  },
  {
   "cell_type": "code",
   "execution_count": 3,
   "id": "f9c35e47",
   "metadata": {},
   "outputs": [
    {
     "name": "stdout",
     "output_type": "stream",
     "text": [
      "Index(['ï»¿InvoiceNo', 'StockCode', 'Description', 'Quantity', 'InvoiceDate',\n",
      "       'UnitPrice', 'CustomerID', 'Country'],\n",
      "      dtype='object')\n"
     ]
    }
   ],
   "source": [
    "print(df.columns)"
   ]
  },
  {
   "cell_type": "code",
   "execution_count": 4,
   "id": "0e2bdb8e",
   "metadata": {},
   "outputs": [
    {
     "name": "stdout",
     "output_type": "stream",
     "text": [
      "Index(['InvoiceNo', 'StockCode', 'Description', 'Quantity', 'InvoiceDate',\n",
      "       'UnitPrice', 'CustomerID', 'Country'],\n",
      "      dtype='object')\n"
     ]
    }
   ],
   "source": [
    "df.rename(columns={\"ï»¿InvoiceNo\":\"InvoiceNo\"},inplace=True)\n",
    "##verifying column name again\n",
    "print(df.columns)"
   ]
  },
  {
   "cell_type": "code",
   "execution_count": 5,
   "id": "926e7f82",
   "metadata": {},
   "outputs": [
    {
     "data": {
      "text/plain": [
       "InvoiceNo           0\n",
       "StockCode           0\n",
       "Description      1454\n",
       "Quantity            0\n",
       "InvoiceDate         0\n",
       "UnitPrice           0\n",
       "CustomerID     135080\n",
       "Country             0\n",
       "dtype: int64"
      ]
     },
     "execution_count": 5,
     "metadata": {},
     "output_type": "execute_result"
    }
   ],
   "source": [
    "##checking for the missing values if any\n",
    "df.isnull().sum()"
   ]
  },
  {
   "cell_type": "code",
   "execution_count": 6,
   "id": "030921bd",
   "metadata": {},
   "outputs": [],
   "source": [
    "##we came to know that description and CustomerId has missing rows\n",
    "##removing rows with missing description and CustomerID\n",
    "df_cleaned=df.dropna(subset=[\"Description\",\"CustomerID\"])"
   ]
  },
  {
   "cell_type": "code",
   "execution_count": 7,
   "id": "c322d357",
   "metadata": {},
   "outputs": [
    {
     "name": "stdout",
     "output_type": "stream",
     "text": [
      "InvoiceNo      0\n",
      "StockCode      0\n",
      "Description    0\n",
      "Quantity       0\n",
      "InvoiceDate    0\n",
      "UnitPrice      0\n",
      "CustomerID     0\n",
      "Country        0\n",
      "dtype: int64\n"
     ]
    }
   ],
   "source": [
    "##verify missing values again\n",
    "print(df_cleaned.isnull().sum())"
   ]
  },
  {
   "cell_type": "code",
   "execution_count": 8,
   "id": "d34d754b",
   "metadata": {},
   "outputs": [
    {
     "name": "stderr",
     "output_type": "stream",
     "text": [
      "C:\\Users\\91876\\AppData\\Local\\Temp\\ipykernel_14456\\3858925402.py:2: SettingWithCopyWarning: \n",
      "A value is trying to be set on a copy of a slice from a DataFrame.\n",
      "Try using .loc[row_indexer,col_indexer] = value instead\n",
      "\n",
      "See the caveats in the documentation: https://pandas.pydata.org/pandas-docs/stable/user_guide/indexing.html#returning-a-view-versus-a-copy\n",
      "  df_cleaned[\"InvoiceDate\"]=pd.to_datetime(df_cleaned[\"InvoiceDate\"])\n"
     ]
    }
   ],
   "source": [
    "##converting invoice date to datetime format\n",
    "df_cleaned[\"InvoiceDate\"]=pd.to_datetime(df_cleaned[\"InvoiceDate\"])"
   ]
  },
  {
   "cell_type": "code",
   "execution_count": 9,
   "id": "3d87f043",
   "metadata": {},
   "outputs": [
    {
     "name": "stdout",
     "output_type": "stream",
     "text": [
      "InvoiceNo              object\n",
      "StockCode              object\n",
      "Description            object\n",
      "Quantity                int64\n",
      "InvoiceDate    datetime64[ns]\n",
      "UnitPrice             float64\n",
      "CustomerID            float64\n",
      "Country                object\n",
      "dtype: object\n"
     ]
    }
   ],
   "source": [
    "##verifying the data type\n",
    "print(df_cleaned.dtypes)"
   ]
  },
  {
   "cell_type": "code",
   "execution_count": 10,
   "id": "373f4534",
   "metadata": {},
   "outputs": [
    {
     "name": "stderr",
     "output_type": "stream",
     "text": [
      "C:\\Users\\91876\\AppData\\Local\\Temp\\ipykernel_14456\\1111421080.py:3: SettingWithCopyWarning: \n",
      "A value is trying to be set on a copy of a slice from a DataFrame.\n",
      "Try using .loc[row_indexer,col_indexer] = value instead\n",
      "\n",
      "See the caveats in the documentation: https://pandas.pydata.org/pandas-docs/stable/user_guide/indexing.html#returning-a-view-versus-a-copy\n",
      "  df_cleaned[\"CustomerID\"]=df_cleaned[\"CustomerID\"].astype(int)\n"
     ]
    }
   ],
   "source": [
    "##customer id should be a whole no not a float\n",
    "##convert CustomerID to integer type\n",
    "df_cleaned[\"CustomerID\"]=df_cleaned[\"CustomerID\"].astype(int)"
   ]
  },
  {
   "cell_type": "code",
   "execution_count": 11,
   "id": "126d5889",
   "metadata": {},
   "outputs": [
    {
     "name": "stdout",
     "output_type": "stream",
     "text": [
      "InvoiceNo              object\n",
      "StockCode              object\n",
      "Description            object\n",
      "Quantity                int64\n",
      "InvoiceDate    datetime64[ns]\n",
      "UnitPrice             float64\n",
      "CustomerID              int32\n",
      "Country                object\n",
      "dtype: object\n"
     ]
    }
   ],
   "source": [
    "##verify the data type again\n",
    "print(df_cleaned.dtypes)"
   ]
  },
  {
   "cell_type": "code",
   "execution_count": 12,
   "id": "a58682ff",
   "metadata": {},
   "outputs": [
    {
     "name": "stdout",
     "output_type": "stream",
     "text": [
      "Duplicate Rows: 5225\n"
     ]
    }
   ],
   "source": [
    "##now lets check for duplicate rows\n",
    "##check for duplicate\n",
    "print(\"Duplicate Rows:\",df_cleaned.duplicated().sum())\n",
    "\n"
   ]
  },
  {
   "cell_type": "code",
   "execution_count": 13,
   "id": "546aeb2f",
   "metadata": {},
   "outputs": [],
   "source": [
    "##remove rows where quantity or unitprice is less than or equal to zero\n",
    "df_cleaned=df_cleaned[(df_cleaned[\"Quantity\"]>0)&(df_cleaned[\"UnitPrice\"]>0)]"
   ]
  },
  {
   "cell_type": "code",
   "execution_count": 14,
   "id": "1af266c1",
   "metadata": {},
   "outputs": [
    {
     "name": "stdout",
     "output_type": "stream",
     "text": [
      "            Quantity      UnitPrice\n",
      "count  397885.000000  397885.000000\n",
      "mean       12.988208       3.116525\n",
      "std       179.331551      22.097861\n",
      "min         1.000000       0.001000\n",
      "25%         2.000000       1.250000\n",
      "50%         6.000000       1.950000\n",
      "75%        12.000000       3.750000\n",
      "max     80995.000000    8142.750000\n"
     ]
    }
   ],
   "source": [
    "##verify if any negative values remain\n",
    "print(df_cleaned[[\"Quantity\",\"UnitPrice\"]].describe())"
   ]
  },
  {
   "cell_type": "code",
   "execution_count": 15,
   "id": "7d6b294b",
   "metadata": {},
   "outputs": [],
   "source": [
    "##data tells min value of both column is greater than zero(min=1.000 for quantity=0)this confirm that no negative or zero values left."
   ]
  },
  {
   "cell_type": "code",
   "execution_count": 16,
   "id": "f75172cb",
   "metadata": {},
   "outputs": [
    {
     "name": "stdout",
     "output_type": "stream",
     "text": [
      "  InvoiceNo StockCode                          Description  Quantity  \\\n",
      "0    536365    85123A   WHITE HANGING HEART T-LIGHT HOLDER         6   \n",
      "1    536365     71053                  WHITE METAL LANTERN         6   \n",
      "2    536365    84406B       CREAM CUPID HEARTS COAT HANGER         8   \n",
      "3    536365    84029G  KNITTED UNION FLAG HOT WATER BOTTLE         6   \n",
      "4    536365    84029E       RED WOOLLY HOTTIE WHITE HEART.         6   \n",
      "\n",
      "          InvoiceDate  UnitPrice  CustomerID         Country  TotalSales  \n",
      "0 2010-12-01 08:26:00       2.55       17850  United Kingdom       15.30  \n",
      "1 2010-12-01 08:26:00       3.39       17850  United Kingdom       20.34  \n",
      "2 2010-12-01 08:26:00       2.75       17850  United Kingdom       22.00  \n",
      "3 2010-12-01 08:26:00       3.39       17850  United Kingdom       20.34  \n",
      "4 2010-12-01 08:26:00       3.39       17850  United Kingdom       20.34  \n"
     ]
    }
   ],
   "source": [
    "df_cleaned['TotalSales']=df_cleaned['Quantity']*df_cleaned['UnitPrice']\n",
    "print(df_cleaned.head())"
   ]
  },
  {
   "cell_type": "code",
   "execution_count": 17,
   "id": "7e39d5b2",
   "metadata": {
    "scrolled": true
   },
   "outputs": [
    {
     "name": "stdout",
     "output_type": "stream",
     "text": [
      "Final dataset shape: (397885, 9)\n"
     ]
    },
    {
     "data": {
      "text/html": [
       "<div>\n",
       "<style scoped>\n",
       "    .dataframe tbody tr th:only-of-type {\n",
       "        vertical-align: middle;\n",
       "    }\n",
       "\n",
       "    .dataframe tbody tr th {\n",
       "        vertical-align: top;\n",
       "    }\n",
       "\n",
       "    .dataframe thead th {\n",
       "        text-align: right;\n",
       "    }\n",
       "</style>\n",
       "<table border=\"1\" class=\"dataframe\">\n",
       "  <thead>\n",
       "    <tr style=\"text-align: right;\">\n",
       "      <th></th>\n",
       "      <th>InvoiceNo</th>\n",
       "      <th>StockCode</th>\n",
       "      <th>Description</th>\n",
       "      <th>Quantity</th>\n",
       "      <th>InvoiceDate</th>\n",
       "      <th>UnitPrice</th>\n",
       "      <th>CustomerID</th>\n",
       "      <th>Country</th>\n",
       "      <th>TotalSales</th>\n",
       "    </tr>\n",
       "  </thead>\n",
       "  <tbody>\n",
       "    <tr>\n",
       "      <th>0</th>\n",
       "      <td>536365</td>\n",
       "      <td>85123A</td>\n",
       "      <td>WHITE HANGING HEART T-LIGHT HOLDER</td>\n",
       "      <td>6</td>\n",
       "      <td>2010-12-01 08:26:00</td>\n",
       "      <td>2.55</td>\n",
       "      <td>17850</td>\n",
       "      <td>United Kingdom</td>\n",
       "      <td>15.30</td>\n",
       "    </tr>\n",
       "    <tr>\n",
       "      <th>1</th>\n",
       "      <td>536365</td>\n",
       "      <td>71053</td>\n",
       "      <td>WHITE METAL LANTERN</td>\n",
       "      <td>6</td>\n",
       "      <td>2010-12-01 08:26:00</td>\n",
       "      <td>3.39</td>\n",
       "      <td>17850</td>\n",
       "      <td>United Kingdom</td>\n",
       "      <td>20.34</td>\n",
       "    </tr>\n",
       "    <tr>\n",
       "      <th>2</th>\n",
       "      <td>536365</td>\n",
       "      <td>84406B</td>\n",
       "      <td>CREAM CUPID HEARTS COAT HANGER</td>\n",
       "      <td>8</td>\n",
       "      <td>2010-12-01 08:26:00</td>\n",
       "      <td>2.75</td>\n",
       "      <td>17850</td>\n",
       "      <td>United Kingdom</td>\n",
       "      <td>22.00</td>\n",
       "    </tr>\n",
       "    <tr>\n",
       "      <th>3</th>\n",
       "      <td>536365</td>\n",
       "      <td>84029G</td>\n",
       "      <td>KNITTED UNION FLAG HOT WATER BOTTLE</td>\n",
       "      <td>6</td>\n",
       "      <td>2010-12-01 08:26:00</td>\n",
       "      <td>3.39</td>\n",
       "      <td>17850</td>\n",
       "      <td>United Kingdom</td>\n",
       "      <td>20.34</td>\n",
       "    </tr>\n",
       "    <tr>\n",
       "      <th>4</th>\n",
       "      <td>536365</td>\n",
       "      <td>84029E</td>\n",
       "      <td>RED WOOLLY HOTTIE WHITE HEART.</td>\n",
       "      <td>6</td>\n",
       "      <td>2010-12-01 08:26:00</td>\n",
       "      <td>3.39</td>\n",
       "      <td>17850</td>\n",
       "      <td>United Kingdom</td>\n",
       "      <td>20.34</td>\n",
       "    </tr>\n",
       "  </tbody>\n",
       "</table>\n",
       "</div>"
      ],
      "text/plain": [
       "  InvoiceNo StockCode                          Description  Quantity  \\\n",
       "0    536365    85123A   WHITE HANGING HEART T-LIGHT HOLDER         6   \n",
       "1    536365     71053                  WHITE METAL LANTERN         6   \n",
       "2    536365    84406B       CREAM CUPID HEARTS COAT HANGER         8   \n",
       "3    536365    84029G  KNITTED UNION FLAG HOT WATER BOTTLE         6   \n",
       "4    536365    84029E       RED WOOLLY HOTTIE WHITE HEART.         6   \n",
       "\n",
       "          InvoiceDate  UnitPrice  CustomerID         Country  TotalSales  \n",
       "0 2010-12-01 08:26:00       2.55       17850  United Kingdom       15.30  \n",
       "1 2010-12-01 08:26:00       3.39       17850  United Kingdom       20.34  \n",
       "2 2010-12-01 08:26:00       2.75       17850  United Kingdom       22.00  \n",
       "3 2010-12-01 08:26:00       3.39       17850  United Kingdom       20.34  \n",
       "4 2010-12-01 08:26:00       3.39       17850  United Kingdom       20.34  "
      ]
     },
     "execution_count": 17,
     "metadata": {},
     "output_type": "execute_result"
    }
   ],
   "source": [
    "##final dataset shape\n",
    "print(\"Final dataset shape:\",df_cleaned.shape)\n",
    "##Display first 5 rows\n",
    "df_cleaned.head()"
   ]
  },
  {
   "cell_type": "code",
   "execution_count": 18,
   "id": "f9ef9348",
   "metadata": {},
   "outputs": [
    {
     "name": "stderr",
     "output_type": "stream",
     "text": [
      "C:\\Users\\91876\\AppData\\Local\\Temp\\ipykernel_14456\\264589982.py:3: FutureWarning: Treating datetime data as categorical rather than numeric in `.describe` is deprecated and will be removed in a future version of pandas. Specify `datetime_is_numeric=True` to silence this warning and adopt the future behavior now.\n",
      "  df_cleaned.describe(include=\"all\")\n"
     ]
    },
    {
     "data": {
      "text/html": [
       "<div>\n",
       "<style scoped>\n",
       "    .dataframe tbody tr th:only-of-type {\n",
       "        vertical-align: middle;\n",
       "    }\n",
       "\n",
       "    .dataframe tbody tr th {\n",
       "        vertical-align: top;\n",
       "    }\n",
       "\n",
       "    .dataframe thead th {\n",
       "        text-align: right;\n",
       "    }\n",
       "</style>\n",
       "<table border=\"1\" class=\"dataframe\">\n",
       "  <thead>\n",
       "    <tr style=\"text-align: right;\">\n",
       "      <th></th>\n",
       "      <th>InvoiceNo</th>\n",
       "      <th>StockCode</th>\n",
       "      <th>Description</th>\n",
       "      <th>Quantity</th>\n",
       "      <th>InvoiceDate</th>\n",
       "      <th>UnitPrice</th>\n",
       "      <th>CustomerID</th>\n",
       "      <th>Country</th>\n",
       "      <th>TotalSales</th>\n",
       "    </tr>\n",
       "  </thead>\n",
       "  <tbody>\n",
       "    <tr>\n",
       "      <th>count</th>\n",
       "      <td>397885</td>\n",
       "      <td>397885</td>\n",
       "      <td>397885</td>\n",
       "      <td>397885.000000</td>\n",
       "      <td>397885</td>\n",
       "      <td>397885.000000</td>\n",
       "      <td>397885.000000</td>\n",
       "      <td>397885</td>\n",
       "      <td>397885.000000</td>\n",
       "    </tr>\n",
       "    <tr>\n",
       "      <th>unique</th>\n",
       "      <td>18532</td>\n",
       "      <td>3665</td>\n",
       "      <td>3877</td>\n",
       "      <td>NaN</td>\n",
       "      <td>17282</td>\n",
       "      <td>NaN</td>\n",
       "      <td>NaN</td>\n",
       "      <td>37</td>\n",
       "      <td>NaN</td>\n",
       "    </tr>\n",
       "    <tr>\n",
       "      <th>top</th>\n",
       "      <td>576339</td>\n",
       "      <td>85123A</td>\n",
       "      <td>WHITE HANGING HEART T-LIGHT HOLDER</td>\n",
       "      <td>NaN</td>\n",
       "      <td>2011-11-14 15:27:00</td>\n",
       "      <td>NaN</td>\n",
       "      <td>NaN</td>\n",
       "      <td>United Kingdom</td>\n",
       "      <td>NaN</td>\n",
       "    </tr>\n",
       "    <tr>\n",
       "      <th>freq</th>\n",
       "      <td>542</td>\n",
       "      <td>2035</td>\n",
       "      <td>2028</td>\n",
       "      <td>NaN</td>\n",
       "      <td>542</td>\n",
       "      <td>NaN</td>\n",
       "      <td>NaN</td>\n",
       "      <td>354321</td>\n",
       "      <td>NaN</td>\n",
       "    </tr>\n",
       "    <tr>\n",
       "      <th>first</th>\n",
       "      <td>NaN</td>\n",
       "      <td>NaN</td>\n",
       "      <td>NaN</td>\n",
       "      <td>NaN</td>\n",
       "      <td>2010-12-01 08:26:00</td>\n",
       "      <td>NaN</td>\n",
       "      <td>NaN</td>\n",
       "      <td>NaN</td>\n",
       "      <td>NaN</td>\n",
       "    </tr>\n",
       "    <tr>\n",
       "      <th>last</th>\n",
       "      <td>NaN</td>\n",
       "      <td>NaN</td>\n",
       "      <td>NaN</td>\n",
       "      <td>NaN</td>\n",
       "      <td>2011-12-09 12:50:00</td>\n",
       "      <td>NaN</td>\n",
       "      <td>NaN</td>\n",
       "      <td>NaN</td>\n",
       "      <td>NaN</td>\n",
       "    </tr>\n",
       "    <tr>\n",
       "      <th>mean</th>\n",
       "      <td>NaN</td>\n",
       "      <td>NaN</td>\n",
       "      <td>NaN</td>\n",
       "      <td>12.988208</td>\n",
       "      <td>NaN</td>\n",
       "      <td>3.116525</td>\n",
       "      <td>15294.416882</td>\n",
       "      <td>NaN</td>\n",
       "      <td>22.396989</td>\n",
       "    </tr>\n",
       "    <tr>\n",
       "      <th>std</th>\n",
       "      <td>NaN</td>\n",
       "      <td>NaN</td>\n",
       "      <td>NaN</td>\n",
       "      <td>179.331551</td>\n",
       "      <td>NaN</td>\n",
       "      <td>22.097861</td>\n",
       "      <td>1713.144421</td>\n",
       "      <td>NaN</td>\n",
       "      <td>309.070653</td>\n",
       "    </tr>\n",
       "    <tr>\n",
       "      <th>min</th>\n",
       "      <td>NaN</td>\n",
       "      <td>NaN</td>\n",
       "      <td>NaN</td>\n",
       "      <td>1.000000</td>\n",
       "      <td>NaN</td>\n",
       "      <td>0.001000</td>\n",
       "      <td>12346.000000</td>\n",
       "      <td>NaN</td>\n",
       "      <td>0.001000</td>\n",
       "    </tr>\n",
       "    <tr>\n",
       "      <th>25%</th>\n",
       "      <td>NaN</td>\n",
       "      <td>NaN</td>\n",
       "      <td>NaN</td>\n",
       "      <td>2.000000</td>\n",
       "      <td>NaN</td>\n",
       "      <td>1.250000</td>\n",
       "      <td>13969.000000</td>\n",
       "      <td>NaN</td>\n",
       "      <td>4.680000</td>\n",
       "    </tr>\n",
       "    <tr>\n",
       "      <th>50%</th>\n",
       "      <td>NaN</td>\n",
       "      <td>NaN</td>\n",
       "      <td>NaN</td>\n",
       "      <td>6.000000</td>\n",
       "      <td>NaN</td>\n",
       "      <td>1.950000</td>\n",
       "      <td>15159.000000</td>\n",
       "      <td>NaN</td>\n",
       "      <td>11.800000</td>\n",
       "    </tr>\n",
       "    <tr>\n",
       "      <th>75%</th>\n",
       "      <td>NaN</td>\n",
       "      <td>NaN</td>\n",
       "      <td>NaN</td>\n",
       "      <td>12.000000</td>\n",
       "      <td>NaN</td>\n",
       "      <td>3.750000</td>\n",
       "      <td>16795.000000</td>\n",
       "      <td>NaN</td>\n",
       "      <td>19.800000</td>\n",
       "    </tr>\n",
       "    <tr>\n",
       "      <th>max</th>\n",
       "      <td>NaN</td>\n",
       "      <td>NaN</td>\n",
       "      <td>NaN</td>\n",
       "      <td>80995.000000</td>\n",
       "      <td>NaN</td>\n",
       "      <td>8142.750000</td>\n",
       "      <td>18287.000000</td>\n",
       "      <td>NaN</td>\n",
       "      <td>168469.600000</td>\n",
       "    </tr>\n",
       "  </tbody>\n",
       "</table>\n",
       "</div>"
      ],
      "text/plain": [
       "       InvoiceNo StockCode                         Description       Quantity  \\\n",
       "count     397885    397885                              397885  397885.000000   \n",
       "unique     18532      3665                                3877            NaN   \n",
       "top       576339    85123A  WHITE HANGING HEART T-LIGHT HOLDER            NaN   \n",
       "freq         542      2035                                2028            NaN   \n",
       "first        NaN       NaN                                 NaN            NaN   \n",
       "last         NaN       NaN                                 NaN            NaN   \n",
       "mean         NaN       NaN                                 NaN      12.988208   \n",
       "std          NaN       NaN                                 NaN     179.331551   \n",
       "min          NaN       NaN                                 NaN       1.000000   \n",
       "25%          NaN       NaN                                 NaN       2.000000   \n",
       "50%          NaN       NaN                                 NaN       6.000000   \n",
       "75%          NaN       NaN                                 NaN      12.000000   \n",
       "max          NaN       NaN                                 NaN   80995.000000   \n",
       "\n",
       "                InvoiceDate      UnitPrice     CustomerID         Country  \\\n",
       "count                397885  397885.000000  397885.000000          397885   \n",
       "unique                17282            NaN            NaN              37   \n",
       "top     2011-11-14 15:27:00            NaN            NaN  United Kingdom   \n",
       "freq                    542            NaN            NaN          354321   \n",
       "first   2010-12-01 08:26:00            NaN            NaN             NaN   \n",
       "last    2011-12-09 12:50:00            NaN            NaN             NaN   \n",
       "mean                    NaN       3.116525   15294.416882             NaN   \n",
       "std                     NaN      22.097861    1713.144421             NaN   \n",
       "min                     NaN       0.001000   12346.000000             NaN   \n",
       "25%                     NaN       1.250000   13969.000000             NaN   \n",
       "50%                     NaN       1.950000   15159.000000             NaN   \n",
       "75%                     NaN       3.750000   16795.000000             NaN   \n",
       "max                     NaN    8142.750000   18287.000000             NaN   \n",
       "\n",
       "           TotalSales  \n",
       "count   397885.000000  \n",
       "unique            NaN  \n",
       "top               NaN  \n",
       "freq              NaN  \n",
       "first             NaN  \n",
       "last              NaN  \n",
       "mean        22.396989  \n",
       "std        309.070653  \n",
       "min          0.001000  \n",
       "25%          4.680000  \n",
       "50%         11.800000  \n",
       "75%         19.800000  \n",
       "max     168469.600000  "
      ]
     },
     "execution_count": 18,
     "metadata": {},
     "output_type": "execute_result"
    }
   ],
   "source": [
    "##EDA \n",
    "##CHECK basic statistics\n",
    "df_cleaned.describe(include=\"all\")"
   ]
  },
  {
   "cell_type": "code",
   "execution_count": 19,
   "id": "afb4c343",
   "metadata": {},
   "outputs": [
    {
     "name": "stdout",
     "output_type": "stream",
     "text": [
      "Description\n",
      "PAPER CRAFT , LITTLE BIRDIE           80995\n",
      "MEDIUM CERAMIC TOP STORAGE JAR        77916\n",
      "WORLD WAR 2 GLIDERS ASSTD DESIGNS     54415\n",
      "JUMBO BAG RED RETROSPOT               46181\n",
      "WHITE HANGING HEART T-LIGHT HOLDER    36725\n",
      "ASSORTED COLOUR BIRD ORNAMENT         35362\n",
      "PACK OF 72 RETROSPOT CAKE CASES       33693\n",
      "POPCORN HOLDER                        30931\n",
      "RABBIT NIGHT LIGHT                    27202\n",
      "MINI PAINT SET VINTAGE                26076\n",
      "Name: Quantity, dtype: int64\n"
     ]
    }
   ],
   "source": [
    "##top 10 most sold products\n",
    "top_sold=df_cleaned.groupby('Description')['Quantity'].sum().sort_values(ascending=False).head(10)\n",
    "print(top_sold)"
   ]
  },
  {
   "cell_type": "code",
   "execution_count": 20,
   "id": "b48df92e",
   "metadata": {},
   "outputs": [
    {
     "name": "stdout",
     "output_type": "stream",
     "text": [
      "Description\n",
      "PAPER CRAFT , LITTLE BIRDIE           168469.60\n",
      "REGENCY CAKESTAND 3 TIER              142592.95\n",
      "WHITE HANGING HEART T-LIGHT HOLDER    100448.15\n",
      "JUMBO BAG RED RETROSPOT                85220.78\n",
      "MEDIUM CERAMIC TOP STORAGE JAR         81416.73\n",
      "POSTAGE                                77821.96\n",
      "PARTY BUNTING                          68844.33\n",
      "ASSORTED COLOUR BIRD ORNAMENT          56580.34\n",
      "Manual                                 53779.93\n",
      "RABBIT NIGHT LIGHT                     51346.20\n",
      "Name: TotalSales, dtype: float64\n"
     ]
    }
   ],
   "source": [
    "##top 10 most profitable products\n",
    "top_profitable=df_cleaned.groupby('Description')['TotalSales'].sum().sort_values(ascending=False).head(10)\n",
    "print(top_profitable)"
   ]
  },
  {
   "cell_type": "code",
   "execution_count": 21,
   "id": "fd36b4e4",
   "metadata": {},
   "outputs": [
    {
     "data": {
      "text/plain": [
       "Text(0.5, 1.0, 'Top 10 Most Profitable Products')"
      ]
     },
     "execution_count": 21,
     "metadata": {},
     "output_type": "execute_result"
    },
    {
     "data": {
      "image/png": "[encoded data removed]",
      "text/plain": [
       "<Figure size 1400x500 with 2 Axes>"
      ]
     },
     "metadata": {},
     "output_type": "display_data"
    }
   ],
   "source": [
    "##plotting\n",
    "fig,axes=plt.subplots(1,2,figsize=(14,5))\n",
    "sns.barplot(y=top_sold.index,x=top_sold.values,ax=axes[0],palette=\"coolwarm\")\n",
    "axes[0].set_title(\"Top 10 Most Sold Products\")\n",
    "axes[0].set_xlabel(\"Total Quantity Sold\")\n",
    "sns.barplot(y=top_profitable.index,x=top_profitable.values,ax=axes[1],palette=\"viridis\")\n",
    "axes[1].set_title(\"Top 10 Most Profitable Products\")"
   ]
  },
  {
   "cell_type": "code",
   "execution_count": 22,
   "id": "33da52d0",
   "metadata": {},
   "outputs": [
    {
     "name": "stdout",
     "output_type": "stream",
     "text": [
      "Total Unique Customers:4338\n"
     ]
    }
   ],
   "source": [
    "##customer behaviour analysis\n",
    "##number of unique customers\n",
    "num_customers=df_cleaned['CustomerID'].nunique()\n",
    "print(f\"Total Unique Customers:{num_customers}\")"
   ]
  },
  {
   "cell_type": "code",
   "execution_count": 23,
   "id": "cb458be7",
   "metadata": {},
   "outputs": [
    {
     "name": "stdout",
     "output_type": "stream",
     "text": [
      "17841    7847\n",
      "14911    5675\n",
      "14096    5111\n",
      "12748    4595\n",
      "14606    2700\n",
      "15311    2379\n",
      "14646    2076\n",
      "13089    1818\n",
      "13263    1677\n",
      "14298    1637\n",
      "Name: CustomerID, dtype: int64\n"
     ]
    }
   ],
   "source": [
    "##most loyal Customers(top 10 by purchase count)\n",
    "loyal_customers=df_cleaned['CustomerID'].value_counts().head(10)\n",
    "print(loyal_customers)"
   ]
  },
  {
   "cell_type": "code",
   "execution_count": 24,
   "id": "6e5e6152",
   "metadata": {},
   "outputs": [
    {
     "name": "stdout",
     "output_type": "stream",
     "text": [
      "CustomerID\n",
      "14646    280206.02\n",
      "18102    259657.30\n",
      "17450    194550.79\n",
      "16446    168472.50\n",
      "14911    143825.06\n",
      "12415    124914.53\n",
      "14156    117379.63\n",
      "17511     91062.38\n",
      "16029     81024.84\n",
      "12346     77183.60\n",
      "Name: TotalSales, dtype: float64\n"
     ]
    }
   ],
   "source": [
    "##top customer by total revenue\n",
    "top_revenue_customers=df_cleaned.groupby('CustomerID')['TotalSales'].sum().sort_values(ascending=False).head(10)\n",
    "print(top_revenue_customers)"
   ]
  },
  {
   "cell_type": "code",
   "execution_count": 25,
   "id": "d85336b7",
   "metadata": {},
   "outputs": [
    {
     "name": "stdout",
     "output_type": "stream",
     "text": [
      "Avergae Order Value(aov):480.866928\n"
     ]
    }
   ],
   "source": [
    "##average order value(AOV)\n",
    "aov=df_cleaned['TotalSales'].sum()/df_cleaned['InvoiceNo'].nunique()\n",
    "print(f\"Avergae Order Value(aov):{aov:2f}\" )"
   ]
  },
  {
   "cell_type": "code",
   "execution_count": 26,
   "id": "2b98615f",
   "metadata": {},
   "outputs": [],
   "source": [
    "##time based sales analysis\n",
    "df_cleaned['Year']=df_cleaned['InvoiceDate'].dt.year\n",
    "df_cleaned['Month']=df_cleaned['InvoiceDate'].dt.month\n",
    "df_cleaned['DayOfWeek']=df_cleaned['InvoiceDate'].dt.day_name()"
   ]
  },
  {
   "cell_type": "code",
   "execution_count": 27,
   "id": "b9e4456f",
   "metadata": {},
   "outputs": [
    {
     "data": {
      "text/html": [
       "<div>\n",
       "<style scoped>\n",
       "    .dataframe tbody tr th:only-of-type {\n",
       "        vertical-align: middle;\n",
       "    }\n",
       "\n",
       "    .dataframe tbody tr th {\n",
       "        vertical-align: top;\n",
       "    }\n",
       "\n",
       "    .dataframe thead th {\n",
       "        text-align: right;\n",
       "    }\n",
       "</style>\n",
       "<table border=\"1\" class=\"dataframe\">\n",
       "  <thead>\n",
       "    <tr style=\"text-align: right;\">\n",
       "      <th></th>\n",
       "      <th>InvoiceNo</th>\n",
       "      <th>StockCode</th>\n",
       "      <th>Description</th>\n",
       "      <th>Quantity</th>\n",
       "      <th>InvoiceDate</th>\n",
       "      <th>UnitPrice</th>\n",
       "      <th>CustomerID</th>\n",
       "      <th>Country</th>\n",
       "      <th>TotalSales</th>\n",
       "      <th>Year</th>\n",
       "      <th>Month</th>\n",
       "      <th>DayOfWeek</th>\n",
       "    </tr>\n",
       "  </thead>\n",
       "  <tbody>\n",
       "    <tr>\n",
       "      <th>0</th>\n",
       "      <td>536365</td>\n",
       "      <td>85123A</td>\n",
       "      <td>WHITE HANGING HEART T-LIGHT HOLDER</td>\n",
       "      <td>6</td>\n",
       "      <td>2010-12-01 08:26:00</td>\n",
       "      <td>2.55</td>\n",
       "      <td>17850</td>\n",
       "      <td>United Kingdom</td>\n",
       "      <td>15.30</td>\n",
       "      <td>2010</td>\n",
       "      <td>12</td>\n",
       "      <td>Wednesday</td>\n",
       "    </tr>\n",
       "    <tr>\n",
       "      <th>1</th>\n",
       "      <td>536365</td>\n",
       "      <td>71053</td>\n",
       "      <td>WHITE METAL LANTERN</td>\n",
       "      <td>6</td>\n",
       "      <td>2010-12-01 08:26:00</td>\n",
       "      <td>3.39</td>\n",
       "      <td>17850</td>\n",
       "      <td>United Kingdom</td>\n",
       "      <td>20.34</td>\n",
       "      <td>2010</td>\n",
       "      <td>12</td>\n",
       "      <td>Wednesday</td>\n",
       "    </tr>\n",
       "    <tr>\n",
       "      <th>2</th>\n",
       "      <td>536365</td>\n",
       "      <td>84406B</td>\n",
       "      <td>CREAM CUPID HEARTS COAT HANGER</td>\n",
       "      <td>8</td>\n",
       "      <td>2010-12-01 08:26:00</td>\n",
       "      <td>2.75</td>\n",
       "      <td>17850</td>\n",
       "      <td>United Kingdom</td>\n",
       "      <td>22.00</td>\n",
       "      <td>2010</td>\n",
       "      <td>12</td>\n",
       "      <td>Wednesday</td>\n",
       "    </tr>\n",
       "    <tr>\n",
       "      <th>3</th>\n",
       "      <td>536365</td>\n",
       "      <td>84029G</td>\n",
       "      <td>KNITTED UNION FLAG HOT WATER BOTTLE</td>\n",
       "      <td>6</td>\n",
       "      <td>2010-12-01 08:26:00</td>\n",
       "      <td>3.39</td>\n",
       "      <td>17850</td>\n",
       "      <td>United Kingdom</td>\n",
       "      <td>20.34</td>\n",
       "      <td>2010</td>\n",
       "      <td>12</td>\n",
       "      <td>Wednesday</td>\n",
       "    </tr>\n",
       "    <tr>\n",
       "      <th>4</th>\n",
       "      <td>536365</td>\n",
       "      <td>84029E</td>\n",
       "      <td>RED WOOLLY HOTTIE WHITE HEART.</td>\n",
       "      <td>6</td>\n",
       "      <td>2010-12-01 08:26:00</td>\n",
       "      <td>3.39</td>\n",
       "      <td>17850</td>\n",
       "      <td>United Kingdom</td>\n",
       "      <td>20.34</td>\n",
       "      <td>2010</td>\n",
       "      <td>12</td>\n",
       "      <td>Wednesday</td>\n",
       "    </tr>\n",
       "  </tbody>\n",
       "</table>\n",
       "</div>"
      ],
      "text/plain": [
       "  InvoiceNo StockCode                          Description  Quantity  \\\n",
       "0    536365    85123A   WHITE HANGING HEART T-LIGHT HOLDER         6   \n",
       "1    536365     71053                  WHITE METAL LANTERN         6   \n",
       "2    536365    84406B       CREAM CUPID HEARTS COAT HANGER         8   \n",
       "3    536365    84029G  KNITTED UNION FLAG HOT WATER BOTTLE         6   \n",
       "4    536365    84029E       RED WOOLLY HOTTIE WHITE HEART.         6   \n",
       "\n",
       "          InvoiceDate  UnitPrice  CustomerID         Country  TotalSales  \\\n",
       "0 2010-12-01 08:26:00       2.55       17850  United Kingdom       15.30   \n",
       "1 2010-12-01 08:26:00       3.39       17850  United Kingdom       20.34   \n",
       "2 2010-12-01 08:26:00       2.75       17850  United Kingdom       22.00   \n",
       "3 2010-12-01 08:26:00       3.39       17850  United Kingdom       20.34   \n",
       "4 2010-12-01 08:26:00       3.39       17850  United Kingdom       20.34   \n",
       "\n",
       "   Year  Month  DayOfWeek  \n",
       "0  2010     12  Wednesday  \n",
       "1  2010     12  Wednesday  \n",
       "2  2010     12  Wednesday  \n",
       "3  2010     12  Wednesday  \n",
       "4  2010     12  Wednesday  "
      ]
     },
     "execution_count": 27,
     "metadata": {},
     "output_type": "execute_result"
    }
   ],
   "source": [
    "df_cleaned.head()"
   ]
  },
  {
   "cell_type": "code",
   "execution_count": 28,
   "id": "6034f1f9",
   "metadata": {},
   "outputs": [
    {
     "data": {
      "image/png": "[encoded data removed]",
      "text/plain": [
       "<Figure size 1200x600 with 1 Axes>"
      ]
     },
     "metadata": {},
     "output_type": "display_data"
    }
   ],
   "source": [
    "##monthly sales trends\n",
    "monthly_sales = df_cleaned.groupby(['Year', 'Month'])['TotalSales'].sum().reset_index()\n",
    "plt.figure(figsize=(12, 6))\n",
    "sns.lineplot(data=monthly_sales, x='Month', y='TotalSales', hue='Year', marker='o')\n",
    "plt.title('Monthly Sales Trend')\n",
    "plt.xlabel('Month')\n",
    "plt.ylabel('Total Sales')\n",
    "plt.xticks(range(1, 13))\n",
    "plt.show()\n"
   ]
  },
  {
   "cell_type": "code",
   "execution_count": 29,
   "id": "3d5690f4",
   "metadata": {},
   "outputs": [
    {
     "data": {
      "image/png": "[encoded data removed]",
      "text/plain": [
       "<Figure size 1000x500 with 1 Axes>"
      ]
     },
     "metadata": {},
     "output_type": "display_data"
    }
   ],
   "source": [
    "##sales by day of the week\n",
    "weekday_sales = df_cleaned.groupby('DayOfWeek')['TotalSales'].sum().reindex(\n",
    "    ['Monday', 'Tuesday', 'Wednesday', 'Thursday', 'Friday', 'Saturday', 'Sunday']\n",
    ")\n",
    "plt.figure(figsize=(10, 5))\n",
    "sns.barplot(x=weekday_sales.index, y=weekday_sales.values, palette='viridis')\n",
    "plt.title('Sales by Day of the Week')\n",
    "plt.xlabel('Day of the Week')\n",
    "plt.ylabel('Total Sales')\n",
    "plt.show()"
   ]
  },
  {
   "cell_type": "code",
   "execution_count": 30,
   "id": "6f0f7d5d",
   "metadata": {},
   "outputs": [
    {
     "data": {
      "image/png": "[encoded data removed]",
      "text/plain": [
       "<Figure size 1200x600 with 1 Axes>"
      ]
     },
     "metadata": {},
     "output_type": "display_data"
    }
   ],
   "source": [
    "##geographical sales analysis\n",
    "##sales by country\n",
    "country_sales = df_cleaned.groupby('Country')['TotalSales'].sum().sort_values(ascending=False)\n",
    "plt.figure(figsize=(12, 6))\n",
    "sns.barplot(y=country_sales.index[:10], x=country_sales.values[:10], palette='coolwarm')\n",
    "plt.title('Top 10 Countries by Total Sales')\n",
    "plt.xlabel('Total Sales')\n",
    "plt.ylabel('Country')\n",
    "plt.show()\n"
   ]
  },
  {
   "cell_type": "code",
   "execution_count": 31,
   "id": "d9e3e65c",
   "metadata": {},
   "outputs": [
    {
     "data": {
      "text/html": [
       "<div>\n",
       "<style scoped>\n",
       "    .dataframe tbody tr th:only-of-type {\n",
       "        vertical-align: middle;\n",
       "    }\n",
       "\n",
       "    .dataframe tbody tr th {\n",
       "        vertical-align: top;\n",
       "    }\n",
       "\n",
       "    .dataframe thead th {\n",
       "        text-align: right;\n",
       "    }\n",
       "</style>\n",
       "<table border=\"1\" class=\"dataframe\">\n",
       "  <thead>\n",
       "    <tr style=\"text-align: right;\">\n",
       "      <th></th>\n",
       "      <th>Recency</th>\n",
       "      <th>Frequency</th>\n",
       "      <th>Monetary</th>\n",
       "    </tr>\n",
       "    <tr>\n",
       "      <th>CustomerID</th>\n",
       "      <th></th>\n",
       "      <th></th>\n",
       "      <th></th>\n",
       "    </tr>\n",
       "  </thead>\n",
       "  <tbody>\n",
       "    <tr>\n",
       "      <th>12346</th>\n",
       "      <td>325</td>\n",
       "      <td>1</td>\n",
       "      <td>77183.60</td>\n",
       "    </tr>\n",
       "    <tr>\n",
       "      <th>12347</th>\n",
       "      <td>1</td>\n",
       "      <td>7</td>\n",
       "      <td>4310.00</td>\n",
       "    </tr>\n",
       "    <tr>\n",
       "      <th>12348</th>\n",
       "      <td>74</td>\n",
       "      <td>4</td>\n",
       "      <td>1797.24</td>\n",
       "    </tr>\n",
       "    <tr>\n",
       "      <th>12349</th>\n",
       "      <td>18</td>\n",
       "      <td>1</td>\n",
       "      <td>1757.55</td>\n",
       "    </tr>\n",
       "    <tr>\n",
       "      <th>12350</th>\n",
       "      <td>309</td>\n",
       "      <td>1</td>\n",
       "      <td>334.40</td>\n",
       "    </tr>\n",
       "  </tbody>\n",
       "</table>\n",
       "</div>"
      ],
      "text/plain": [
       "            Recency  Frequency  Monetary\n",
       "CustomerID                              \n",
       "12346           325          1  77183.60\n",
       "12347             1          7   4310.00\n",
       "12348            74          4   1797.24\n",
       "12349            18          1   1757.55\n",
       "12350           309          1    334.40"
      ]
     },
     "execution_count": 31,
     "metadata": {},
     "output_type": "execute_result"
    }
   ],
   "source": [
    "import datetime\n",
    "\n",
    "latest_date = df_cleaned['InvoiceDate'].max()\n",
    "rfm = df_cleaned.groupby('CustomerID').agg({\n",
    "    'InvoiceDate': lambda x: (latest_date - x.max()).days,  # Recency\n",
    "    'InvoiceNo': 'nunique',  # Frequency\n",
    "    'TotalSales': 'sum'  # Monetary\n",
    "}).rename(columns={'InvoiceDate': 'Recency', 'InvoiceNo': 'Frequency', 'TotalSales': 'Monetary'})\n",
    "\n",
    "rfm.head()\n"
   ]
  },
  {
   "cell_type": "code",
   "execution_count": 32,
   "id": "b282c8f8",
   "metadata": {},
   "outputs": [
    {
     "data": {
      "text/html": [
       "<div>\n",
       "<style scoped>\n",
       "    .dataframe tbody tr th:only-of-type {\n",
       "        vertical-align: middle;\n",
       "    }\n",
       "\n",
       "    .dataframe tbody tr th {\n",
       "        vertical-align: top;\n",
       "    }\n",
       "\n",
       "    .dataframe thead th {\n",
       "        text-align: right;\n",
       "    }\n",
       "</style>\n",
       "<table border=\"1\" class=\"dataframe\">\n",
       "  <thead>\n",
       "    <tr style=\"text-align: right;\">\n",
       "      <th></th>\n",
       "      <th>Recency</th>\n",
       "      <th>Frequency</th>\n",
       "      <th>Monetary</th>\n",
       "      <th>R_Score</th>\n",
       "      <th>F_Score</th>\n",
       "      <th>M_Score</th>\n",
       "      <th>RFM_Score</th>\n",
       "    </tr>\n",
       "    <tr>\n",
       "      <th>CustomerID</th>\n",
       "      <th></th>\n",
       "      <th></th>\n",
       "      <th></th>\n",
       "      <th></th>\n",
       "      <th></th>\n",
       "      <th></th>\n",
       "      <th></th>\n",
       "    </tr>\n",
       "  </thead>\n",
       "  <tbody>\n",
       "    <tr>\n",
       "      <th>12346</th>\n",
       "      <td>325</td>\n",
       "      <td>1</td>\n",
       "      <td>77183.60</td>\n",
       "      <td>1</td>\n",
       "      <td>1</td>\n",
       "      <td>4</td>\n",
       "      <td>6</td>\n",
       "    </tr>\n",
       "    <tr>\n",
       "      <th>12347</th>\n",
       "      <td>1</td>\n",
       "      <td>7</td>\n",
       "      <td>4310.00</td>\n",
       "      <td>4</td>\n",
       "      <td>4</td>\n",
       "      <td>4</td>\n",
       "      <td>12</td>\n",
       "    </tr>\n",
       "    <tr>\n",
       "      <th>12348</th>\n",
       "      <td>74</td>\n",
       "      <td>4</td>\n",
       "      <td>1797.24</td>\n",
       "      <td>2</td>\n",
       "      <td>3</td>\n",
       "      <td>4</td>\n",
       "      <td>9</td>\n",
       "    </tr>\n",
       "    <tr>\n",
       "      <th>12349</th>\n",
       "      <td>18</td>\n",
       "      <td>1</td>\n",
       "      <td>1757.55</td>\n",
       "      <td>3</td>\n",
       "      <td>1</td>\n",
       "      <td>4</td>\n",
       "      <td>8</td>\n",
       "    </tr>\n",
       "    <tr>\n",
       "      <th>12350</th>\n",
       "      <td>309</td>\n",
       "      <td>1</td>\n",
       "      <td>334.40</td>\n",
       "      <td>1</td>\n",
       "      <td>1</td>\n",
       "      <td>2</td>\n",
       "      <td>4</td>\n",
       "    </tr>\n",
       "  </tbody>\n",
       "</table>\n",
       "</div>"
      ],
      "text/plain": [
       "            Recency  Frequency  Monetary R_Score F_Score M_Score  RFM_Score\n",
       "CustomerID                                                                 \n",
       "12346           325          1  77183.60       1       1       4          6\n",
       "12347             1          7   4310.00       4       4       4         12\n",
       "12348            74          4   1797.24       2       3       4          9\n",
       "12349            18          1   1757.55       3       1       4          8\n",
       "12350           309          1    334.40       1       1       2          4"
      ]
     },
     "execution_count": 32,
     "metadata": {},
     "output_type": "execute_result"
    }
   ],
   "source": [
    "##assigning RFM scores\n",
    "rfm['R_Score'] = pd.qcut(rfm['Recency'], 4, labels=[4, 3, 2, 1])\n",
    "rfm['F_Score'] = pd.qcut(rfm['Frequency'].rank(method='first'), 4, labels=[1, 2, 3, 4])\n",
    "rfm['M_Score'] = pd.qcut(rfm['Monetary'], 4, labels=[1, 2, 3, 4])\n",
    "\n",
    "rfm['RFM_Score'] = rfm[['R_Score', 'F_Score', 'M_Score']].sum(axis=1)\n",
    "rfm.head()\n"
   ]
  },
  {
   "cell_type": "code",
   "execution_count": 33,
   "id": "047639ae",
   "metadata": {},
   "outputs": [
    {
     "data": {
      "text/plain": [
       "Segment\n",
       "At Risk                 807\n",
       "Best Customers         1268\n",
       "Loyal Customers        1275\n",
       "Potential Customers     988\n",
       "dtype: int64"
      ]
     },
     "execution_count": 33,
     "metadata": {},
     "output_type": "execute_result"
    }
   ],
   "source": [
    "##customer segmentation based on RFM score\n",
    "def segment_customer(score):\n",
    "    if score >= 10:\n",
    "        return 'Best Customers'\n",
    "    elif score >= 7:\n",
    "        return 'Loyal Customers'\n",
    "    elif score >= 5:\n",
    "        return 'Potential Customers'\n",
    "    else:\n",
    "        return 'At Risk'\n",
    "\n",
    "rfm['Segment'] = rfm['RFM_Score'].apply(segment_customer)\n",
    "rfm.groupby('Segment').size()\n",
    "\n"
   ]
  },
  {
   "cell_type": "code",
   "execution_count": 34,
   "id": "f742f2c2",
   "metadata": {},
   "outputs": [],
   "source": [
    "df_cleaned.to_csv(\"cleaned_retail_data.csv\",index=False)"
   ]
  },
  {
   "cell_type": "code",
   "execution_count": 35,
   "id": "9d22b5f4",
   "metadata": {},
   "outputs": [
    {
     "name": "stdout",
     "output_type": "stream",
     "text": [
      "✅ Segmentation complete! Saved as 'rfm_segmented_customers.csv'\n"
     ]
    }
   ],
   "source": [
    "import pandas as pd\n",
    "from sklearn.cluster import KMeans\n",
    "from sklearn.preprocessing import StandardScaler\n",
    "from datetime import timedelta\n",
    "\n",
    "# Load your cleaned retail data\n",
    "df = pd.read_csv(\"cleaned_retail_data.csv\", parse_dates=['InvoiceDate'])\n",
    "\n",
    "# Drop missing CustomerIDs if any\n",
    "df = df.dropna(subset=[\"CustomerID\"])\n",
    "\n",
    "\n",
    "# Create Snapshot date for Recency calculation\n",
    "snapshot_date = df['InvoiceDate'].max() + timedelta(days=1)\n",
    "\n",
    "# RFM Table\n",
    "rfm = df.groupby('CustomerID').agg({\n",
    "    'InvoiceDate': lambda x: (snapshot_date - x.max()).days,  # Recency\n",
    "    'InvoiceNo': 'nunique',                                    # Frequency\n",
    "    'TotalSales': 'sum'                                        # Monetary\n",
    "}).reset_index()\n",
    "\n",
    "# Rename columns\n",
    "rfm.columns = ['CustomerID', 'Recency', 'Frequency', 'Monetary']\n",
    "\n",
    "# Normalize (standardize) RFM values\n",
    "scaler = StandardScaler()\n",
    "rfm_scaled = scaler.fit_transform(rfm[['Recency', 'Frequency', 'Monetary']])\n",
    "\n",
    "# Apply KMeans clustering\n",
    "kmeans = KMeans(n_clusters=4, random_state=42, n_init=10)\n",
    "\n",
    "rfm['Segment'] = kmeans.fit_predict(rfm_scaled)\n",
    "\n",
    "# Save final data with segment labels\n",
    "rfm.to_csv(\"rfm_segmented_customers.csv\", index=False)\n",
    "\n",
    "print(\"✅ Segmentation complete! Saved as 'rfm_segmented_customers.csv'\")\n"
   ]
  },
  {
   "cell_type": "code",
   "execution_count": null,
   "id": "895f8f65",
   "metadata": {},
   "outputs": [],
   "source": []
  },
  {
   "cell_type": "code",
   "execution_count": null,
   "id": "f01457d4",
   "metadata": {},
   "outputs": [],
   "source": []
  },
  {
   "cell_type": "code",
   "execution_count": null,
   "id": "063d0c90",
   "metadata": {},
   "outputs": [],
   "source": []
  },
  {
   "cell_type": "code",
   "execution_count": null,
   "id": "60f6b788",
   "metadata": {},
   "outputs": [],
   "source": []
  }
 ],
 "metadata": {
  "kernelspec": {
   "display_name": "Python 3 (ipykernel)",
   "language": "python",
   "name": "python3"
  },
  "language_info": {
   "codemirror_mode": {
    "name": "ipython",
    "version": 3
   },
   "file_extension": ".py",
   "mimetype": "text/x-python",
   "name": "python",
   "nbconvert_exporter": "python",
   "pygments_lexer": "ipython3",
   "version": "3.9.13"
  }
 },
 "nbformat": 4,
 "nbformat_minor": 5
}
